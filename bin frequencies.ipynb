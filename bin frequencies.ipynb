{
 "cells": [
  {
   "cell_type": "code",
   "execution_count": 1,
   "metadata": {},
   "outputs": [],
   "source": [
    "import pandas as pd\n",
    "import os\n",
    "import glob\n",
    "import math"
   ]
  },
  {
   "cell_type": "code",
   "execution_count": 2,
   "metadata": {},
   "outputs": [
    {
     "name": "stdout",
     "output_type": "stream",
     "text": [
      "skipping column 2\n",
      "skipping column 2\n",
      "All Done\n"
     ]
    }
   ],
   "source": [
    "#where the data files are located\n",
    "folder = \"DD08_Short2\"\n",
    "all_files = glob.glob(folder + \"/*.csv\")\n",
    "newfolder = \"frequencies\"\n",
    "subject = folder.split(\"_\")[0]\n",
    "\n",
    "# analyze each file in the folder\n",
    "for filename in all_files:\n",
    "    #print(filename + \" started\")\n",
    "    file = filename.split('.')[0]\n",
    "    df = pd.read_csv(filename, index_col=False, header=None, names = [\"C1\",\"C2\"])\n",
    "    #column 1\n",
    "    #print(\"column 1\")\n",
    "    # set bin size to be 60 second\n",
    "    bins = range(0,math.ceil(df.C1.max())+1,60)\n",
    "    # cut into bins\n",
    "    df2 = pd.DataFrame()\n",
    "    df2[\"range\"] = pd.cut(df.C1, bins)\n",
    "    df3 = pd.DataFrame({'count' : df2.groupby(df2[\"range\"],as_index=False).size()}).reset_index()\n",
    "    df3[\"Frequency1\"] = df3[\"count\"]/60\n",
    "    df5 = pd.DataFrame()\n",
    "    if df.C2.notnull().any():\n",
    "        #column 2\n",
    "       # print(\"column 2\")\n",
    "        # set bin size to be 1 second\n",
    "        df4=pd.DataFrame()\n",
    "        bins2 = range(0,math.ceil(df.C2.max()),60)\n",
    "        # cut into bins\n",
    "        df4[\"range2\"] = pd.cut(df.C2, bins2)\n",
    "        #bins into another DataFrame\n",
    "        df4 = pd.DataFrame({'count2' : df2.groupby(df4[\"range2\"],as_index=False).size()}).reset_index()\n",
    "        #count into frequency\n",
    "        df4[\"Frequency2\"] = df4[\"count2\"]/60\n",
    "        df5 = pd.concat([df3,df4], axis = 1)\n",
    "    else:\n",
    "        print(\"skipping column 2\")\n",
    "        df3.to_csv(newfolder + \"/\" + file + \"_frequency.csv\")\n",
    "    #print(filename + \" finished\")\n",
    "    df5.to_csv(newfolder + \"/\" + file + \"_frequency.csv\")\n",
    "print(\"All Done\")"
   ]
  },
  {
   "cell_type": "code",
   "execution_count": 3,
   "metadata": {},
   "outputs": [],
   "source": [
    "# create single file with all frequencies\n",
    "path = newfolder + \"/\" + folder \n",
    "freq_files = glob.glob(path + \"/*.csv\")\n",
    "\n",
    "li = []\n",
    "\n",
    "for filename in freq_files:\n",
    "    fdf = pd.read_csv(filename, index_col=0, header=0)\n",
    "    li.append(fdf)\n",
    "\n",
    "frame = pd.concat(li, axis=0, ignore_index=True,sort = True)\n",
    "frame = frame.drop([\"count\",\"count2\",\"range\",\"range2\"],axis=1)\n",
    "big_path = subject\n",
    "frame.to_csv(subject + \"_forhist.csv\")"
   ]
  },
  {
   "cell_type": "code",
   "execution_count": null,
   "metadata": {},
   "outputs": [],
   "source": []
  },
  {
   "cell_type": "code",
   "execution_count": null,
   "metadata": {},
   "outputs": [],
   "source": []
  }
 ],
 "metadata": {
  "kernelspec": {
   "display_name": "Python 3",
   "language": "python",
   "name": "python3"
  },
  "language_info": {
   "codemirror_mode": {
    "name": "ipython",
    "version": 3
   },
   "file_extension": ".py",
   "mimetype": "text/x-python",
   "name": "python",
   "nbconvert_exporter": "python",
   "pygments_lexer": "ipython3",
   "version": "3.6.8"
  }
 },
 "nbformat": 4,
 "nbformat_minor": 2
}
