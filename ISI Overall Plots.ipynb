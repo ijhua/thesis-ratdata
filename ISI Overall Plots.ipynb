{
 "cells": [
  {
   "cell_type": "code",
   "execution_count": 30,
   "metadata": {},
   "outputs": [],
   "source": [
    "#this code was an attempt to plot the observed ISI against the expected normal plot\n",
    "import pandas as pd\n",
    "import matplotlib.pyplot as plt\n",
    "import numpy as np\n",
    "from matplotlib import colors\n",
    "from matplotlib.ticker import PercentFormatter\n",
    "%matplotlib inline\n",
    "import scipy.stats as stats"
   ]
  },
  {
   "cell_type": "code",
   "execution_count": 55,
   "metadata": {},
   "outputs": [
    {
     "data": {
      "image/png": "[encoded data removed]",
      "text/plain": [
       "<Figure size 432x288 with 1 Axes>"
      ]
     },
     "metadata": {
      "needs_background": "light"
     },
     "output_type": "display_data"
    }
   ],
   "source": [
    "data = pd.read_csv('DD11_forISIoverall.csv', sep=',',header=0, index_col =0)\n",
    "\n",
    "data = data.mask(data.ISI1>60)\n",
    "\n",
    "#lower, upper, mu, and sigma are four parameters\n",
    "lower, upper = 0, 60\n",
    "mu, sigma = data.mean(), data.std()\n",
    "\n",
    "#instantiate an object X using the above four parameters,\n",
    "X = stats.truncnorm((lower - mu) / sigma, (upper - mu) / sigma, loc=mu, scale=sigma)\n",
    "\n",
    "\n",
    "x = np.sort(X.rvs(size = len(data)))\n",
    "y = data[\"ISI1\"].sort_values()\n",
    "fig = plt.figure()\n",
    "ax = fig.add_subplot(111)\n",
    "ax.scatter(x,y)\n",
    "plt.title(\"DD11\")\n",
    "plt.xlabel(\"Normal Distribution\")\n",
    "plt.ylabel(\"Observed ISI\")\n",
    "plt.show()"
   ]
  },
  {
   "cell_type": "code",
   "execution_count": 56,
   "metadata": {},
   "outputs": [
    {
     "data": {
      "text/plain": [
       "(array([1.57522e+05, 1.57476e+05, 1.55824e+05, 1.52588e+05, 1.47823e+05,\n",
       "        1.42182e+05, 1.34627e+05, 1.26111e+05, 1.17221e+05, 1.06837e+05,\n",
       "        9.73250e+04, 8.76140e+04, 7.78850e+04, 6.80880e+04, 5.94360e+04,\n",
       "        5.12430e+04, 4.33190e+04, 3.66520e+04, 2.99540e+04, 2.48290e+04,\n",
       "        2.03660e+04, 1.62230e+04, 1.30380e+04, 1.02940e+04, 7.91700e+03,\n",
       "        6.07200e+03, 4.59200e+03, 3.60300e+03, 2.70400e+03, 1.93400e+03,\n",
       "        1.45200e+03, 1.05500e+03, 7.43000e+02, 5.23000e+02, 3.44000e+02,\n",
       "        2.62000e+02, 1.65000e+02, 1.18000e+02, 9.60000e+01, 5.30000e+01,\n",
       "        3.90000e+01, 2.00000e+01, 1.10000e+01, 4.00000e+00, 8.00000e+00,\n",
       "        5.00000e+00, 1.00000e+00, 3.00000e+00, 2.00000e+00, 1.00000e+00]),\n",
       " array([7.13650441e-07, 9.66729010e-02, 1.93345088e-01, 2.90017276e-01,\n",
       "        3.86689463e-01, 4.83361651e-01, 5.80033838e-01, 6.76706025e-01,\n",
       "        7.73378213e-01, 8.70050400e-01, 9.66722588e-01, 1.06339478e+00,\n",
       "        1.16006696e+00, 1.25673915e+00, 1.35341134e+00, 1.45008352e+00,\n",
       "        1.54675571e+00, 1.64342790e+00, 1.74010009e+00, 1.83677227e+00,\n",
       "        1.93344446e+00, 2.03011665e+00, 2.12678884e+00, 2.22346102e+00,\n",
       "        2.32013321e+00, 2.41680540e+00, 2.51347759e+00, 2.61014977e+00,\n",
       "        2.70682196e+00, 2.80349415e+00, 2.90016634e+00, 2.99683852e+00,\n",
       "        3.09351071e+00, 3.19018290e+00, 3.28685509e+00, 3.38352727e+00,\n",
       "        3.48019946e+00, 3.57687165e+00, 3.67354383e+00, 3.77021602e+00,\n",
       "        3.86688821e+00, 3.96356040e+00, 4.06023258e+00, 4.15690477e+00,\n",
       "        4.25357696e+00, 4.35024915e+00, 4.44692133e+00, 4.54359352e+00,\n",
       "        4.64026571e+00, 4.73693790e+00, 4.83361008e+00]),\n",
       " <a list of 50 Patch objects>)"
      ]
     },
     "execution_count": 56,
     "metadata": {},
     "output_type": "execute_result"
    },
    {
     "data": {
      "image/png": "[encoded data removed]",
      "text/plain": [
       "<Figure size 432x288 with 1 Axes>"
      ]
     },
     "metadata": {
      "needs_background": "light"
     },
     "output_type": "display_data"
    }
   ],
   "source": [
    "plt.hist(X.rvs(len(data)),bins=50)"
   ]
  },
  {
   "cell_type": "code",
   "execution_count": 57,
   "metadata": {},
   "outputs": [
    {
     "data": {
      "text/plain": [
       "ISI1    0.100999\n",
       "dtype: float64"
      ]
     },
     "execution_count": 57,
     "metadata": {},
     "output_type": "execute_result"
    }
   ],
   "source": [
    "data.mean()"
   ]
  },
  {
   "cell_type": "code",
   "execution_count": 37,
   "metadata": {},
   "outputs": [
    {
     "name": "stdout",
     "output_type": "stream",
     "text": [
      "     ISI1\n",
      "0  0.0108 ISI1    0.0008\n",
      "dtype: float64 ISI1    0.115998\n",
      "dtype: float64\n"
     ]
    },
    {
     "name": "stderr",
     "output_type": "stream",
     "text": [
      "/Users/mathuser/anaconda3/lib/python3.6/site-packages/numpy/lib/histograms.py:824: RuntimeWarning: invalid value encountered in greater_equal\n",
      "  keep = (tmp_a >= first_edge)\n",
      "/Users/mathuser/anaconda3/lib/python3.6/site-packages/numpy/lib/histograms.py:825: RuntimeWarning: invalid value encountered in less_equal\n",
      "  keep &= (tmp_a <= last_edge)\n"
     ]
    },
    {
     "data": {
      "text/plain": [
       "Text(0, 0.5, 'Count')"
      ]
     },
     "execution_count": 37,
     "metadata": {},
     "output_type": "execute_result"
    },
    {
     "data": {
      "image/png": "[encoded data removed]",
      "text/plain": [
       "<Figure size 432x288 with 1 Axes>"
      ]
     },
     "metadata": {
      "needs_background": "light"
     },
     "output_type": "display_data"
    }
   ],
   "source": [
    "data = pd.read_csv('DD11_forISIoverall.csv', sep=',',header=0, index_col =0)\n",
    "print(data.mode(),data.min(),data.mean())\n",
    "\n",
    "data = data.mask(data.ISI1>60)\n",
    "\n",
    "n_bins = 30\n",
    "\n",
    "y = data[\"ISI1\"]\n",
    "fig = plt.figure()\n",
    "ax = fig.add_subplot(111)\n",
    "ax.hist(y,n_bins)\n",
    "plt.title(\"DD11\")\n",
    "plt.xlabel(\"ISI\")\n",
    "plt.ylabel(\"Count\")"
   ]
  }
 ],
 "metadata": {
  "kernelspec": {
   "display_name": "Python 3",
   "language": "python",
   "name": "python3"
  },
  "language_info": {
   "codemirror_mode": {
    "name": "ipython",
    "version": 3
   },
   "file_extension": ".py",
   "mimetype": "text/x-python",
   "name": "python",
   "nbconvert_exporter": "python",
   "pygments_lexer": "ipython3",
   "version": "3.6.8"
  }
 },
 "nbformat": 4,
 "nbformat_minor": 2
}
