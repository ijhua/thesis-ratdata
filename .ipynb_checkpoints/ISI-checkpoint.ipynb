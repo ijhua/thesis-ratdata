{
 "cells": [
  {
   "cell_type": "code",
   "execution_count": 56,
   "metadata": {},
   "outputs": [],
   "source": [
    "import pandas as pd\n",
    "import glob\n",
    "import numpy as np\n",
    "import os"
   ]
  },
  {
   "cell_type": "code",
   "execution_count": 81,
   "metadata": {},
   "outputs": [
    {
     "name": "stdout",
     "output_type": "stream",
     "text": [
      "DD11_Short/1_30.csv started\n",
      "skip col 2\n",
      "DD11_Short/1_31.csv started\n",
      "skip col 2\n",
      "DD11_Short/3_27.csv started\n",
      "DD11_Short/3_26.csv started\n",
      "DD11_Short/4_11.csv started\n",
      "DD11_Short/4_10.csv started\n",
      "DD11_Short/3_25.csv started\n",
      "DD11_Short/3_14.csv started\n",
      "DD11_Short/3_12.csv started\n",
      "DD11_Short/3_11.csv started\n",
      "DD11_Short/2_21.csv started\n",
      "skip col 2\n",
      "DD11_Short/2_19.csv started\n",
      "skip col 2\n",
      "All Done\n"
     ]
    }
   ],
   "source": [
    "#df = pd.read_csv(filename, header = 0, index_col = None)\n",
    "#where the data files are located\n",
    "folder = \"DD11_Short\"\n",
    "all_files = glob.glob(folder + \"/*.csv\")\n",
    "newfolder = \"interspike_int\"\n",
    "subject = folder.split(\"_\")[0]\n",
    "\n",
    "# analyze each file in the folder\n",
    "for filename in all_files:\n",
    "    print(filename + \" started\")\n",
    "    file = filename.split('.')[0]\n",
    "    df = pd.read_csv(filename, index_col=False, header=None, names = [\"C1\",\"C2\"])\n",
    "    df2 = pd.DataFrame(columns = [\"ISI1\",\"ISI2\"])\n",
    "    #make new DataFrame with columns\n",
    "    df2[\"ISI1\"] = df.C1.diff()\n",
    "    if df.C2.notnull().any():\n",
    "        df2[\"ISI2\"] = df.C2.diff()\n",
    "    else:\n",
    "        print(\"skip col 2\")\n",
    "    df2.to_csv(newfolder + \"/\" + file + \"_ISI.csv\")\n",
    "print(\"All Done\")"
   ]
  },
  {
   "cell_type": "code",
   "execution_count": 74,
   "metadata": {},
   "outputs": [],
   "source": [
    "# create single file with all frequencies\n",
    "path = newfolder + \"/\" + folder \n",
    "freq_files = glob.glob(path + \"/*.csv\")\n",
    "\n",
    "li = []\n",
    "\n",
    "for filename in freq_files:\n",
    "    fdf = pd.read_csv(filename, index_col=0, header=0)\n",
    "    li.append(fdf)\n",
    "\n",
    "frame = pd.concat(li, axis=0, ignore_index=True,sort = True)\n",
    "big_path = subject\n",
    "frame.to_csv(subject + \"_forhist_ISI.csv\")"
   ]
  },
  {
   "cell_type": "code",
   "execution_count": 80,
   "metadata": {},
   "outputs": [
    {
     "data": {
      "text/plain": [
       "556.6046000000006"
      ]
     },
     "execution_count": 80,
     "metadata": {},
     "output_type": "execute_result"
    }
   ],
   "source": [
    "frame.ISI1.max()"
   ]
  },
  {
   "cell_type": "code",
   "execution_count": null,
   "metadata": {},
   "outputs": [],
   "source": []
  }
 ],
 "metadata": {
  "kernelspec": {
   "display_name": "Python 3",
   "language": "python",
   "name": "python3"
  },
  "language_info": {
   "codemirror_mode": {
    "name": "ipython",
    "version": 3
   },
   "file_extension": ".py",
   "mimetype": "text/x-python",
   "name": "python",
   "nbconvert_exporter": "python",
   "pygments_lexer": "ipython3",
   "version": "3.6.8"
  }
 },
 "nbformat": 4,
 "nbformat_minor": 2
}
