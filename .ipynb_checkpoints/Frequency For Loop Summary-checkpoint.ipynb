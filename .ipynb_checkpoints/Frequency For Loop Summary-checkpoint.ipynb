{
 "cells": [
  {
   "cell_type": "code",
   "execution_count": 2,
   "metadata": {},
   "outputs": [],
   "source": [
    "import pandas as pd"
   ]
  },
  {
   "cell_type": "code",
   "execution_count": 3,
   "metadata": {},
   "outputs": [
    {
     "data": {
      "text/plain": [
       "'DD08freq = pd.read_csv(\"DD08_forhist.csv\",index_col=0)\\nDD11freq = pd.read_csv(\"DD11_forhist.csv\",index_col=0)'"
      ]
     },
     "execution_count": 3,
     "metadata": {},
     "output_type": "execute_result"
    }
   ],
   "source": [
    "'''DD08freq = pd.read_csv(\"DD08_forhist.csv\",index_col=0)\n",
    "DD11freq = pd.read_csv(\"DD11_forhist.csv\",index_col=0)'''"
   ]
  },
  {
   "cell_type": "code",
   "execution_count": 4,
   "metadata": {},
   "outputs": [
    {
     "data": {
      "text/plain": [
       "'print(\"DD08 Mean (1): \", DD08freq.Frequency1.mean(), \"\\n\",\\n      \"DD08 Median (1): \",  DD08freq[\"Frequency1\"].median(), \"\\n\",\\n      \"DD11 Mean (1): \",  DD11freq[\"Frequency1\"].mean(), \"\\n\",\\n      \"DD1 Median (1): \",  DD11freq[\"Frequency1\"].median(), \"\\n\",\\n     \"DD08 Mean (2): \",  DD08freq[\"Frequency2\"].mean(), \"\\n\",\\n      \"DD08 Median (2): \",  DD08freq[\"Frequency2\"].median(), \"\\n\",\\n      \"DD11 Mean (2): \",  DD11freq[\"Frequency2\"].mean(), \"\\n\",\\n      \"DD1 Median (2): \",  DD11freq[\"Frequency2\"].median())'"
      ]
     },
     "execution_count": 4,
     "metadata": {},
     "output_type": "execute_result"
    }
   ],
   "source": [
    "'''print(\"DD08 Mean (1): \", DD08freq.Frequency1.mean(), \"\\n\",\n",
    "      \"DD08 Median (1): \",  DD08freq[\"Frequency1\"].median(), \"\\n\",\n",
    "      \"DD11 Mean (1): \",  DD11freq[\"Frequency1\"].mean(), \"\\n\",\n",
    "      \"DD1 Median (1): \",  DD11freq[\"Frequency1\"].median(), \"\\n\",\n",
    "     \"DD08 Mean (2): \",  DD08freq[\"Frequency2\"].mean(), \"\\n\",\n",
    "      \"DD08 Median (2): \",  DD08freq[\"Frequency2\"].median(), \"\\n\",\n",
    "      \"DD11 Mean (2): \",  DD11freq[\"Frequency2\"].mean(), \"\\n\",\n",
    "      \"DD1 Median (2): \",  DD11freq[\"Frequency2\"].median())'''"
   ]
  },
  {
   "cell_type": "code",
   "execution_count": 5,
   "metadata": {},
   "outputs": [
    {
     "name": "stderr",
     "output_type": "stream",
     "text": [
      "/Users/mathuser/anaconda3/lib/python3.6/site-packages/numpy/lib/arraysetops.py:569: FutureWarning: elementwise comparison failed; returning scalar instead, but in the future will perform elementwise comparison\n",
      "  mask |= (ar1 == a)\n"
     ]
    }
   ],
   "source": [
    "DD08_ISI = pd.read_csv(\"DD08_forhist_ISI.csv\",index_col=0)\n",
    "DD11_ISI = pd.read_csv(\"DD11_forhist_ISI.csv\",index_col=0)"
   ]
  },
  {
   "cell_type": "code",
   "execution_count": 6,
   "metadata": {},
   "outputs": [
    {
     "data": {
      "text/plain": [
       "'print(\"DD08 Mean (1): \", DD08_ISI.ISI1.mean(), \"\\n\",\\n      \"DD08 Median (1): \",  DD08_ISI.ISI1.median(), \"\\n\",\\n      \"DD11 Mean (1): \",  DD11_ISI.ISI1.mean(), \"\\n\",\\n      \"DD1 Median (1): \",  DD11_ISI.ISI1.median(), \"\\n\",)'"
      ]
     },
     "execution_count": 6,
     "metadata": {},
     "output_type": "execute_result"
    }
   ],
   "source": [
    "'''print(\"DD08 Mean (1): \", DD08_ISI.ISI1.mean(), \"\\n\",\n",
    "      \"DD08 Median (1): \",  DD08_ISI.ISI1.median(), \"\\n\",\n",
    "      \"DD11 Mean (1): \",  DD11_ISI.ISI1.mean(), \"\\n\",\n",
    "      \"DD1 Median (1): \",  DD11_ISI.ISI1.median(), \"\\n\",)'''"
   ]
  },
  {
   "cell_type": "code",
   "execution_count": 7,
   "metadata": {},
   "outputs": [
    {
     "name": "stdout",
     "output_type": "stream",
     "text": [
      "Less than 250 ms\n",
      "DD08 Mean (1):  0.05415364446674081 \n",
      " DD08 STD (1):  0.04759974904975297 \n",
      " DD08 Median (1):  0.037000000000261934 \n",
      "\n",
      "DD08 Mean (2):  0.05764501063292337 \n",
      " DD08 STD(2):  0.05125118872837363 \n",
      " DD08 Median (2):  0.03880000000026485 \n",
      "\n",
      "up to 30 seconds\n",
      "DD08 Mean (1):  0.15391254464838572 \n",
      " DD08 STD (1):  0.8603622689004583 \n",
      " DD08 Median (1):  0.0402000000000271 \n",
      "\n",
      "DD08 Mean (2):  0.2301936377317672 \n",
      " DD08 STD (2):  0.996116051460344 \n",
      " DD08 Median (2):  0.04680000000007567 \n",
      "\n",
      "less than 250 ms\n",
      "DD11 Mean (1):  0.034775935341856676 \n",
      " DD11 STD (1):  0.03733967416866944 \n",
      " DD11 Median (1):  0.021000000000640284 \n",
      "\n",
      "DD11 Mean (2):  0.032220772845893975 \n",
      " DD11 STD (2):  0.03509371247251356 \n",
      " DD11 Median (2):  0.019800000000032014 \n",
      "\n",
      "up to 30 s\n",
      "DD11 Mean (1):  0.13319243287214452 \n",
      " DD11 STD (1):  0.9323972874498063 \n",
      " DD11 Median (1):  0.022199999999429558 \n",
      "\n",
      "DD11 Mean (2):  0.14102565259462063 \n",
      " DD11 STD (2):  0.934716318328127 \n",
      " DD11 Median (2):  0.020800000000008367 \n",
      "\n"
     ]
    }
   ],
   "source": [
    "#this was really unpleasant to type out individually. hopefully just combining the subjects is good enough\n",
    "#ISI less than 250 ms\n",
    "print(\"Less than 250 ms\")\n",
    "DD08_ISI_mask_250_1 = DD08_ISI.mask(DD08_ISI.ISI1>0.250)\n",
    "print(\"DD08 Mean (1): \", DD08_ISI_mask_250_1.ISI1.mean(), \"\\n\",\n",
    "      \"DD08 STD (1): \", DD08_ISI_mask_250_1.ISI1.std(), \"\\n\",\n",
    "      \"DD08 Median (1): \",  DD08_ISI_mask_250_1.ISI1.median(), \"\\n\",)\n",
    "DD08_ISI_mask_250_2 = DD08_ISI.mask(DD08_ISI.ISI2>0.250)\n",
    "print(\"DD08 Mean (2): \", DD08_ISI_mask_250_2.ISI2.mean(), \"\\n\",\n",
    "      \"DD08 STD(2): \", DD08_ISI_mask_250_2.ISI2.std(), \"\\n\",\n",
    "      \"DD08 Median (2): \",  DD08_ISI_mask_250_2.ISI2.median(), \"\\n\",)\n",
    "print(\"up to 30 seconds\")\n",
    "#up to 30 seconds\n",
    "DD08_ISI_mask_30_1 = DD08_ISI.mask(DD08_ISI.ISI1>30)\n",
    "print(\"DD08 Mean (1): \", DD08_ISI_mask_30_1.ISI1.mean(), \"\\n\",\n",
    "      \"DD08 STD (1): \", DD08_ISI_mask_30_1.ISI1.std(), \"\\n\",\n",
    "      \"DD08 Median (1): \",  DD08_ISI_mask_30_1.ISI1.median(), \"\\n\",)\n",
    "DD08_ISI_mask_30_2 = DD08_ISI.mask(DD08_ISI.ISI2>30)\n",
    "print(\"DD08 Mean (2): \", DD08_ISI_mask_30_2.ISI2.mean(), \"\\n\",\n",
    "      \"DD08 STD (2): \", DD08_ISI_mask_30_2.ISI2.std(), \"\\n\",\n",
    "      \"DD08 Median (2): \",  DD08_ISI_mask_30_2.ISI2.median(), \"\\n\",)\n",
    "#DD11\n",
    "#ISI less than 250 ms\n",
    "print(\"less than 250 ms\")\n",
    "DD11_ISI_mask_250_1 = DD11_ISI.mask(DD11_ISI.ISI1>0.250)\n",
    "print(\"DD11 Mean (1): \", DD11_ISI_mask_250_1.ISI1.mean(), \"\\n\",\n",
    "      \"DD11 STD (1): \", DD11_ISI_mask_250_1.ISI1.std(), \"\\n\",\n",
    "      \"DD11 Median (1): \",  DD11_ISI_mask_250_1.ISI1.median(), \"\\n\",)\n",
    "DD11_ISI_mask_250_2 = DD11_ISI.mask(DD11_ISI.ISI2>0.250)\n",
    "print(\"DD11 Mean (2): \", DD11_ISI_mask_250_2.ISI2.mean(), \"\\n\",\n",
    "      \"DD11 STD (2): \", DD11_ISI_mask_250_2.ISI2.std(), \"\\n\",\n",
    "      \"DD11 Median (2): \",  DD11_ISI_mask_250_2.ISI2.median(), \"\\n\",)\n",
    "print(\"up to 30 s\")\n",
    "#up to 30 seconds\n",
    "DD11_ISI_mask_30_1 = DD11_ISI.mask(DD11_ISI.ISI1>30)\n",
    "print(\"DD11 Mean (1): \", DD11_ISI_mask_30_1.ISI1.mean(), \"\\n\",\n",
    "      \"DD11 STD (1): \", DD11_ISI_mask_30_1.ISI1.std(), \"\\n\",\n",
    "      \"DD11 Median (1): \",  DD11_ISI_mask_30_1.ISI1.median(), \"\\n\",)\n",
    "DD11_ISI_mask_30_2 = DD11_ISI.mask(DD11_ISI.ISI2>30)\n",
    "print(\"DD11 Mean (2): \", DD11_ISI_mask_30_2.ISI2.mean(), \"\\n\",\n",
    "      \"DD11 STD (2): \", DD11_ISI_mask_30_2.ISI2.std(), \"\\n\",\n",
    "      \"DD11 Median (2): \",  DD11_ISI_mask_30_2.ISI2.median(), \"\\n\",)"
   ]
  },
  {
   "cell_type": "code",
   "execution_count": 8,
   "metadata": {},
   "outputs": [
    {
     "data": {
      "text/plain": [
       "'#combine DD08 with DD11 frequency\\nfrequencies = [DD08freq,DD11freq]\\neverything_freq = pd.concat(frequencies)'"
      ]
     },
     "execution_count": 8,
     "metadata": {},
     "output_type": "execute_result"
    }
   ],
   "source": [
    "'''#combine DD08 with DD11 frequency\n",
    "frequencies = [DD08freq,DD11freq]\n",
    "everything_freq = pd.concat(frequencies)'''"
   ]
  },
  {
   "cell_type": "code",
   "execution_count": 9,
   "metadata": {},
   "outputs": [],
   "source": [
    "# combine ISIs\n",
    "DD08_ISI_all = pd.read_csv(\"DD08_forISIoverall.csv\",index_col = 0)\n",
    "DD11_ISI_all = pd.read_csv(\"DD11_forISIoverall.csv\",index_col = 0)"
   ]
  },
  {
   "cell_type": "code",
   "execution_count": 12,
   "metadata": {},
   "outputs": [
    {
     "name": "stdout",
     "output_type": "stream",
     "text": [
      "less than 250\n",
      "DD08 ISI Mean:  ISI1    0.049652\n",
      "dtype: float64 \n",
      " DD08 ISI STD:  ISI1    0.043087\n",
      "dtype: float64 \n",
      " DD08 ISI Median:  ISI1    0.0354\n",
      "dtype: float64 \n",
      "\n",
      "up to 30\n",
      "DD08 ISI Mean:  ISI1    0.104267\n",
      "dtype: float64 \n",
      " DD08 ISI STD:  ISI1    0.575039\n",
      "dtype: float64 \n",
      " DD08 ISI Median:  ISI1    0.0374\n",
      "dtype: float64 \n",
      "\n"
     ]
    }
   ],
   "source": [
    "DD08_all_mask_250 = DD08_ISI_all.mask(DD08_ISI_all.ISI1>0.250)\n",
    "DD08_all_mask_30 = DD08_ISI_all.mask(DD08_ISI_all.ISI1>30)\n",
    "print(\"less than 250\")\n",
    "print(\"DD08 ISI Mean: \", DD08_all_mask_250.mean(), \"\\n\",\n",
    "      \"DD08 ISI STD: \", DD08_all_mask_250.std(), \"\\n\",\n",
    "      \"DD08 ISI Median: \",  DD08_all_mask_250.median(), \"\\n\",)\n",
    "print(\"up to 30\")\n",
    "print(\"DD08 ISI Mean: \", DD08_all_mask_30.mean(), \"\\n\",\n",
    "      \"DD08 ISI STD: \", DD08_all_mask_30.std(), \"\\n\",\n",
    "      \"DD08 ISI Median: \",  DD08_all_mask_30.median(), \"\\n\",)"
   ]
  },
  {
   "cell_type": "code",
   "execution_count": 14,
   "metadata": {},
   "outputs": [
    {
     "name": "stdout",
     "output_type": "stream",
     "text": [
      "less than 250\n",
      "DD11 ISI Mean:  ISI1    0.029522\n",
      "dtype: float64 \n",
      " DD11 ISI STD:  ISI1    0.034214\n",
      "dtype: float64 \n",
      " DD11 ISI Median:  ISI1    0.0182\n",
      "dtype: float64 \n",
      "\n",
      "up to 30\n",
      "DD11 ISI Mean:  ISI1    0.091517\n",
      "dtype: float64 \n",
      " DD11 ISI STD:  ISI1    0.675782\n",
      "dtype: float64 \n",
      " DD11 ISI Median:  ISI1    0.0188\n",
      "dtype: float64 \n",
      "\n"
     ]
    }
   ],
   "source": [
    "DD11_all_mask_250 = DD11_ISI_all.mask(DD11_ISI_all.ISI1>0.250)\n",
    "DD11_all_mask_30 = DD11_ISI_all.mask(DD11_ISI_all.ISI1>30)\n",
    "print(\"less than 250\")\n",
    "print(\"DD11 ISI Mean: \", DD11_all_mask_250.mean(), \"\\n\",\n",
    "      \"DD11 ISI STD: \", DD11_all_mask_250.std(), \"\\n\",\n",
    "      \"DD11 ISI Median: \",  DD11_all_mask_250.median(), \"\\n\",)\n",
    "print(\"up to 30\")\n",
    "print(\"DD11 ISI Mean: \", DD11_all_mask_30.mean(), \"\\n\",\n",
    "      \"DD11 ISI STD: \", DD11_all_mask_30.std(), \"\\n\",\n",
    "      \"DD11 ISI Median: \",  DD11_all_mask_30.median(), \"\\n\",)"
   ]
  },
  {
   "cell_type": "code",
   "execution_count": null,
   "metadata": {},
   "outputs": [],
   "source": [
    "ISIdf = [DD08_ISI_all,DD11_ISI_all]\n",
    "everything_ISI = pd.concat(ISIdf)"
   ]
  },
  {
   "cell_type": "code",
   "execution_count": 10,
   "metadata": {},
   "outputs": [
    {
     "name": "stdout",
     "output_type": "stream",
     "text": [
      "less than 250ms\n",
      "ISI Mean (1):  ISI1    0.040069\n",
      "dtype: float64 \n",
      " ISI STD(1):  ISI1    0.040386\n",
      "dtype: float64 \n",
      " ISI Median (1):  ISI1    0.0252\n",
      "dtype: float64 \n",
      "\n",
      "up to 30 s\n",
      "ISI Mean (1):  0.09822566515603137 \n",
      " ISI STD (1):  0.6248326132310277 \n",
      " ISI Median (1):  0.026600000000144064 \n",
      "\n"
     ]
    }
   ],
   "source": [
    "#everything\n",
    "#ISI less than 250 ms\n",
    "print(\"less than 250ms\")\n",
    "ISIdf_mask_250 = everything_ISI.mask(everything_ISI.ISI1>0.250)\n",
    "print(\"ISI Mean (1): \", ISIdf_mask_250.mean(), \"\\n\",\n",
    "      \"ISI STD(1): \", ISIdf_mask_250.std(), \"\\n\",\n",
    "      \"ISI Median (1): \",  ISIdf_mask_250.median(), \"\\n\",)\n",
    "#up to 30 seconds\n",
    "print(\"up to 30 s\")\n",
    "ISIdf_mask_30 = everything_ISI.mask(everything_ISI.ISI1>30)\n",
    "print(\"ISI Mean (1): \", ISIdf_mask_30.ISI1.mean(), \"\\n\",\n",
    "      \"ISI STD (1): \", ISIdf_mask_30.ISI1.std(), \"\\n\",\n",
    "      \"ISI Median (1): \",  ISIdf_mask_30.ISI1.median(), \"\\n\",)"
   ]
  },
  {
   "cell_type": "code",
   "execution_count": null,
   "metadata": {},
   "outputs": [],
   "source": []
  },
  {
   "cell_type": "code",
   "execution_count": null,
   "metadata": {},
   "outputs": [],
   "source": []
  }
 ],
 "metadata": {
  "kernelspec": {
   "display_name": "Python 3",
   "language": "python",
   "name": "python3"
  },
  "language_info": {
   "codemirror_mode": {
    "name": "ipython",
    "version": 3
   },
   "file_extension": ".py",
   "mimetype": "text/x-python",
   "name": "python",
   "nbconvert_exporter": "python",
   "pygments_lexer": "ipython3",
   "version": "3.6.8"
  }
 },
 "nbformat": 4,
 "nbformat_minor": 2
}
