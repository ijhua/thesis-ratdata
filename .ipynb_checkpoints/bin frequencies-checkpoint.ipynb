{
 "cells": [
  {
   "cell_type": "code",
   "execution_count": 1,
   "metadata": {},
   "outputs": [],
   "source": [
    "import pandas as pd\n",
    "import os\n",
    "import glob\n",
    "import math"
   ]
  },
  {
   "cell_type": "code",
   "execution_count": 15,
   "metadata": {},
   "outputs": [
    {
     "name": "stdout",
     "output_type": "stream",
     "text": [
      "DD11_Short/1_30.csv started\n",
      "column 1\n",
      "skipping column 2\n",
      "DD11_Short/1_30.csv finished\n",
      "DD11_Short/1_31.csv started\n",
      "column 1\n",
      "skipping column 2\n",
      "DD11_Short/1_31.csv finished\n",
      "DD11_Short/3_27.csv started\n",
      "column 1\n",
      "column 2\n",
      "DD11_Short/3_27.csv finished\n",
      "DD11_Short/3_26.csv started\n",
      "column 1\n",
      "column 2\n",
      "DD11_Short/3_26.csv finished\n",
      "DD11_Short/4_11.csv started\n",
      "column 1\n",
      "column 2\n",
      "DD11_Short/4_11.csv finished\n",
      "DD11_Short/4_10.csv started\n",
      "column 1\n",
      "column 2\n",
      "DD11_Short/4_10.csv finished\n",
      "DD11_Short/3_25.csv started\n",
      "column 1\n",
      "column 2\n",
      "DD11_Short/3_25.csv finished\n",
      "DD11_Short/3_14.csv started\n",
      "column 1\n",
      "column 2\n",
      "DD11_Short/3_14.csv finished\n",
      "DD11_Short/3_12.csv started\n",
      "column 1\n",
      "column 2\n",
      "DD11_Short/3_12.csv finished\n",
      "DD11_Short/3_11.csv started\n",
      "column 1\n",
      "column 2\n",
      "DD11_Short/3_11.csv finished\n",
      "DD11_Short/2_21.csv started\n",
      "column 1\n",
      "skipping column 2\n",
      "DD11_Short/2_21.csv finished\n",
      "DD11_Short/2_19.csv started\n",
      "column 1\n",
      "skipping column 2\n",
      "DD11_Short/2_19.csv finished\n",
      "All Done\n"
     ]
    }
   ],
   "source": [
    "#where the data files are located\n",
    "folder = \"DD11_Short\"\n",
    "all_files = glob.glob(folder + \"/*.csv\")\n",
    "newfolder = \"frequencies\"\n",
    "\n",
    "# analyze each file in the folder\n",
    "for filename in all_files:\n",
    "    print(filename + \" started\")\n",
    "    file = filename.split('.')[0]\n",
    "    df = pd.read_csv(filename, index_col=False, header=None, names = [\"C1\",\"C2\"])\n",
    "    #column 1\n",
    "    print(\"column 1\")\n",
    "    # set bin size to be 1 second\n",
    "    bins = range(math.ceil(df.C1.max())+1)\n",
    "    # cut into bins\n",
    "    df2 = pd.DataFrame()\n",
    "    df2[\"range\"] = pd.cut(df.C1, bins)\n",
    "    df3 = pd.DataFrame({'count' : df2.groupby(df2[\"range\"],as_index=False).size()}).reset_index()\n",
    "    df3[\"Frequency1\"] = df3[\"count\"]/1\n",
    "    if df.C2.notnull().any():\n",
    "        #column 2\n",
    "        print(\"column 2\")\n",
    "        # set bin size to be 1 second\n",
    "        bins2 = range(math.ceil(df.C2.max())+1)\n",
    "        # cut into bins\n",
    "        df2[\"range2\"] = pd.cut(df.C2, bins2)\n",
    "        #bins into another DataFrame\n",
    "        df3 = pd.DataFrame({'count2' : df2.groupby(df2[\"range2\"],as_index=False).size()}).reset_index()\n",
    "        #count into frequency\n",
    "        df3[\"Frequency2\"] = df3[\"count2\"]/1\n",
    "    else:\n",
    "        print(\"skipping column 2\")\n",
    "    df3.to_csv(newfolder + \"/\" + file + \"_frequency.csv\")\n",
    "    print(filename + \" finished\")\n",
    "print(\"All Done\")"
   ]
  },
  {
   "cell_type": "code",
   "execution_count": null,
   "metadata": {},
   "outputs": [],
   "source": []
  }
 ],
 "metadata": {
  "kernelspec": {
   "display_name": "Python 3",
   "language": "python",
   "name": "python3"
  },
  "language_info": {
   "codemirror_mode": {
    "name": "ipython",
    "version": 3
   },
   "file_extension": ".py",
   "mimetype": "text/x-python",
   "name": "python",
   "nbconvert_exporter": "python",
   "pygments_lexer": "ipython3",
   "version": "3.6.8"
  }
 },
 "nbformat": 4,
 "nbformat_minor": 2
}
