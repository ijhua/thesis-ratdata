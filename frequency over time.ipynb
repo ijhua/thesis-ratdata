{
 "cells": [
  {
   "cell_type": "code",
   "execution_count": null,
   "metadata": {},
   "outputs": [],
   "source": [
    "import pandas as pd\n",
    "import os\n",
    "import glob\n",
    "import math"
   ]
  },
  {
   "cell_type": "code",
   "execution_count": null,
   "metadata": {},
   "outputs": [],
   "source": [
    "# separate frequency calculations by week number, then concatenate\n",
    "folders = [\"frequencies/DD08_Short2\",\"frequencies/DD11_Short\"]\n",
    "for folder in folders:\n",
    "    all_files = glob.glob(folder + \"/*.csv\")\n",
    "    subject = folder.split(\"/\")[1].split(\"_\"[0])\n",
    "    week = pd.read_csv(subject+\"_week.csv\")\n",
    "    for filename in all_files:\n",
    "        date = filename.split(\".\")[0]\n",
    "        "
   ]
  },
  {
   "cell_type": "code",
   "execution_count": null,
   "metadata": {},
   "outputs": [],
   "source": []
  }
 ],
 "metadata": {
  "kernelspec": {
   "display_name": "Python 3",
   "language": "python",
   "name": "python3"
  },
  "language_info": {
   "codemirror_mode": {
    "name": "ipython",
    "version": 3
   },
   "file_extension": ".py",
   "mimetype": "text/x-python",
   "name": "python",
   "nbconvert_exporter": "python",
   "pygments_lexer": "ipython3",
   "version": "3.6.8"
  }
 },
 "nbformat": 4,
 "nbformat_minor": 2
}
