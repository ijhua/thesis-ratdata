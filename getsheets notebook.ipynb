{
 "cells": [
  {
   "cell_type": "code",
   "execution_count": null,
   "metadata": {},
   "outputs": [],
   "source": [
    "import click\n",
    "import os\n",
    "import pandas as pd"
   ]
  },
  {
   "cell_type": "code",
   "execution_count": null,
   "metadata": {},
   "outputs": [],
   "source": [
    "'''def file_split(file):\n",
    "    s = file.split('.')\n",
    "    name = '.'.join(s[:-1])  # get directory name\n",
    "    return name'''"
   ]
  },
  {
   "cell_type": "code",
   "execution_count": null,
   "metadata": {},
   "outputs": [],
   "source": [
    "def getsheets(inputfile, fileformat):\n",
    "    name = file_split(inputfile)\n",
    "    try:\n",
    "        os.makedirs(name)\n",
    "    except:\n",
    "        pass\n",
    "        print(\"Could not find file\")\n",
    "\n",
    "    df1 = pd.ExcelFile(inputfile)\n",
    "    for x in df1.sheet_names:\n",
    "        print(x + '.' + fileformat, 'Done!')\n",
    "        df2 = pd.read_excel(inputfile, sheet_name=x)\n",
    "        filename = os.path.join(name, x + '.' + fileformat)\n",
    "        if fileformat == 'csv':\n",
    "            df2.to_csv(filename, index=False)\n",
    "        else:\n",
    "            df2.to_excel(filename, index=False)\n",
    "    print('\\nAll Done!')"
   ]
  },
  {
   "cell_type": "code",
   "execution_count": null,
   "metadata": {},
   "outputs": [],
   "source": []
  }
 ],
 "metadata": {
  "kernelspec": {
   "display_name": "Python 3",
   "language": "python",
   "name": "python3"
  },
  "language_info": {
   "codemirror_mode": {
    "name": "ipython",
    "version": 3
   },
   "file_extension": ".py",
   "mimetype": "text/x-python",
   "name": "python",
   "nbconvert_exporter": "python",
   "pygments_lexer": "ipython3",
   "version": "3.6.8"
  }
 },
 "nbformat": 4,
 "nbformat_minor": 2
}
