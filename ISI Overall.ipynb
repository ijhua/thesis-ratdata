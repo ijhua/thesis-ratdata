{
 "cells": [
  {
   "cell_type": "code",
   "execution_count": 1,
   "metadata": {},
   "outputs": [],
   "source": [
    "import pandas as pd\n",
    "import glob\n",
    "import numpy as np\n",
    "import os"
   ]
  },
  {
   "cell_type": "code",
   "execution_count": 6,
   "metadata": {},
   "outputs": [
    {
     "name": "stdout",
     "output_type": "stream",
     "text": [
      "DD11_Short/1_30.csv started\n",
      "DD11_Short/1_31.csv started\n",
      "DD11_Short/3_27.csv started\n",
      "DD11_Short/3_26.csv started\n",
      "DD11_Short/4_11.csv started\n",
      "DD11_Short/4_10.csv started\n",
      "DD11_Short/3_25.csv started\n",
      "DD11_Short/3_14.csv started\n",
      "DD11_Short/3_12.csv started\n",
      "DD11_Short/3_11.csv started\n",
      "DD11_Short/2_21.csv started\n",
      "DD11_Short/2_19.csv started\n",
      "DD08_Short2/1_31.csv started\n",
      "DD08_Short2/3_27.csv started\n",
      "DD08_Short2/3_26.csv started\n",
      "DD08_Short2/4_11.csv started\n",
      "DD08_Short2/3_25.csv started\n",
      "DD08_Short2/3_28.csv started\n",
      "DD08_Short2/4_09.csv started\n",
      "DD08_Short2/3_14.csv started\n",
      "DD08_Short2/3_15.csv started\n",
      "DD08_Short2/3_12.csv started\n",
      "DD08_Short2/1_29.csv started\n",
      "DD08_Short2/2_22.csv started\n",
      "DD08_Short2/2_21.csv started\n",
      "DD08_Short2/2_19.csv started\n",
      "All Done\n"
     ]
    }
   ],
   "source": [
    "#df = pd.read_csv(filename, header = 0, index_col = None)\n",
    "#where the data files are located\n",
    "folders = [\"DD11_Short\",\"DD08_Short2\"]\n",
    "for folder in folders:\n",
    "    all_files = glob.glob(folder + \"/*.csv\")\n",
    "    newfolder = \"interspike_int_overall\"\n",
    "    subject = folder.split(\"_\")[0]\n",
    "\n",
    "    # analyze each file in the folder\n",
    "    for filename in all_files:\n",
    "        print(filename + \" started\")\n",
    "        file = filename.split('.')[0]\n",
    "        df = pd.read_csv(filename, index_col=False, header=None, names = [\"C1\",\"C2\"])\n",
    "        df = df.stack(dropna=True).reset_index(drop=True)\n",
    "        df = df.sort_values()\n",
    "        df2 = pd.DataFrame(columns = [\"ISI1\"])\n",
    "        #make new DataFrame with columns\n",
    "        df2[\"ISI1\"] = df.diff()\n",
    "        df2.to_csv(newfolder + \"/\" + file + \"_ISI_overall.csv\")\n",
    "    # create single file with all frequencies\n",
    "    path = newfolder + \"/\" + folder \n",
    "    freq_files = glob.glob(path + \"/*.csv\")\n",
    "\n",
    "    li = []\n",
    "\n",
    "    for filename in freq_files:\n",
    "        fdf = pd.read_csv(filename, index_col=0, header=0)\n",
    "        li.append(fdf)\n",
    "\n",
    "    frame = pd.concat(li, axis=0, ignore_index=True,sort = True)\n",
    "    big_path = subject\n",
    "    frame.to_csv(subject + \"_forISIoverall.csv\")\n",
    "print(\"All Done\")"
   ]
  },
  {
   "cell_type": "code",
   "execution_count": 3,
   "metadata": {},
   "outputs": [
    {
     "ename": "NameError",
     "evalue": "name 'df2' is not defined",
     "output_type": "error",
     "traceback": [
      "\u001b[0;31m---------------------------------------------------------------------------\u001b[0m",
      "\u001b[0;31mNameError\u001b[0m                                 Traceback (most recent call last)",
      "\u001b[0;32m<ipython-input-3-2068723f1203>\u001b[0m in \u001b[0;36m<module>\u001b[0;34m\u001b[0m\n\u001b[0;32m----> 1\u001b[0;31m \u001b[0mdf2\u001b[0m\u001b[0;34m\u001b[0m\u001b[0;34m\u001b[0m\u001b[0m\n\u001b[0m",
      "\u001b[0;31mNameError\u001b[0m: name 'df2' is not defined"
     ]
    }
   ],
   "source": []
  },
  {
   "cell_type": "code",
   "execution_count": null,
   "metadata": {},
   "outputs": [],
   "source": []
  }
 ],
 "metadata": {
  "kernelspec": {
   "display_name": "Python 3",
   "language": "python",
   "name": "python3"
  },
  "language_info": {
   "codemirror_mode": {
    "name": "ipython",
    "version": 3
   },
   "file_extension": ".py",
   "mimetype": "text/x-python",
   "name": "python",
   "nbconvert_exporter": "python",
   "pygments_lexer": "ipython3",
   "version": "3.6.8"
  }
 },
 "nbformat": 4,
 "nbformat_minor": 2
}
